{
 "cells": [
  {
   "cell_type": "code",
   "execution_count": 7,
   "metadata": {},
   "outputs": [],
   "source": [
    "%run /Users/will/dsi/PortlandPD/src/functions.py\n",
    "df = start_with_combined()"
   ]
  },
  {
   "cell_type": "code",
   "execution_count": 10,
   "metadata": {},
   "outputs": [],
   "source": [
    "date_range = date_range_of_set(df, 'ReportMonthYear')\n",
    "dfs_by_date = split_df_by_date(df, date_range)"
   ]
  },
  {
   "cell_type": "code",
   "execution_count": 45,
   "metadata": {},
   "outputs": [
    {
     "data": {
      "text/plain": [
       "1823"
      ]
     },
     "execution_count": 45,
     "metadata": {},
     "output_type": "execute_result"
    }
   ],
   "source": [
    "dfs_by_date\n",
    "dfs_crime_counts_by_date = []\n",
    "for i in range(len(dfs_by_date)):\n",
    "    dfs_crime_counts_by_date.append(\n",
    "        dfs_by_date[i].groupby('FinalCallCategory').count().sort_values('Priority', ascending=False))\n",
    "dfs_crime_counts_by_date[0].loc['Disturbance']['Priority']"
   ]
  },
  {
   "cell_type": "code",
   "execution_count": 46,
   "metadata": {},
   "outputs": [],
   "source": [
    "def pull_crime_counts(df_list, call_type):\n",
    "    lst_of_counts = []\n",
    "    for i in range(len(df_list)):\n",
    "        lst_of_counts.append(df_list[i].loc[call_type]['Priority'])\n",
    "    return lst_of_counts\n",
    "\n",
    "disturbance_counts = pull_crime_counts(dfs_crime_counts_by_date, 'Disturbance')"
   ]
  },
  {
   "cell_type": "code",
   "execution_count": 47,
   "metadata": {},
   "outputs": [],
   "source": [
    "calls_of_interest = ['Disturbance', 'Theft', 'Welfare Check', 'Unwanted Person',\n",
    "                     'Suspicious', 'Collision', 'Burglary', 'Alarm', 'Assist', \n",
    "                     'Stolen Vehicle', 'Vice', 'Robbery']"
   ]
  },
  {
   "cell_type": "code",
   "execution_count": null,
   "metadata": {},
   "outputs": [],
   "source": [
    "lst_of_crime_counts = []\n",
    "for i in range(len(calls_of_interest)):\n",
    "    ### START BACK HERE!!!!!!!!!!! ###"
   ]
  },
  {
   "cell_type": "code",
   "execution_count": null,
   "metadata": {},
   "outputs": [],
   "source": [
    "# Eventually use this:\n",
    "# plt.style.use('fivethirtyeight')\n",
    "# font = {'weight': 'bold',\n",
    "#         'size':   16}\n",
    "# plt.rc('font', **font)\n",
    "\n",
    "\n",
    "# fig, ax = plt.subplots(figsize=(16,10))\n",
    "# full_df_x_vals = list(df_count_by_month.index)\n",
    "# full_df_y_vals = list(df_count_by_month)\n",
    "# ax.plot(full_df_x_vals, full_df_y_vals, color='b')\n",
    "# ax.set_ylabel('# of Calls', fontweight='bold')\n",
    "# ax.set_xlabel('Date', fontweight='bold')\n",
    "# ax.set_xlim(min(full_df_x_vals), full_df_x_vals[-2])\n",
    "# ax.set_title('Portland PD Dispatched Calls', fontweight='bold')\n",
    "# # plt.savefig('../images/total_calls_over_time.png')"
   ]
  }
 ],
 "metadata": {
  "kernelspec": {
   "display_name": "Python 3",
   "language": "python",
   "name": "python3"
  },
  "language_info": {
   "codemirror_mode": {
    "name": "ipython",
    "version": 3
   },
   "file_extension": ".py",
   "mimetype": "text/x-python",
   "name": "python",
   "nbconvert_exporter": "python",
   "pygments_lexer": "ipython3",
   "version": "3.7.4"
  }
 },
 "nbformat": 4,
 "nbformat_minor": 2
}
